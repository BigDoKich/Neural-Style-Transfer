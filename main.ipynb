{
 "cells": [
  {
   "cell_type": "code",
   "execution_count": 1,
   "id": "1bd9ff68",
   "metadata": {},
   "outputs": [],
   "source": [
    "import torch\n",
    "import torch.nn as nn\n",
    "import torch.optim as optim\n",
    "from torchvision import transforms\n",
    "from torchvision.models import vgg19, VGG19_Weights\n",
    "from PIL import Image\n",
    "import copy"
   ]
  },
  {
   "cell_type": "code",
   "execution_count": 2,
   "id": "dec639e3",
   "metadata": {},
   "outputs": [
    {
     "name": "stdout",
     "output_type": "stream",
     "text": [
      "cpu\n"
     ]
    }
   ],
   "source": [
    "device = torch.device('cuda' if torch.cuda.is_available() else 'cpu')\n",
    "print(device)"
   ]
  },
  {
   "cell_type": "code",
   "execution_count": 3,
   "id": "17cfa721",
   "metadata": {},
   "outputs": [],
   "source": [
    "def load_image(img_path, max_size=400, shape=None):\n",
    "    image = Image.open(img_path).convert('RGB')\n",
    "    \n",
    "    size = max_size if max(image.size) > max_size else max(image.size)\n",
    "    if shape:\n",
    "        size = shape\n",
    "        \n",
    "    transform = transforms.Compose([\n",
    "        transforms.Resize(size),\n",
    "        transforms.ToTensor(),\n",
    "        transforms.Normalize(mean=[0.485, 0.456, 0.406],\n",
    "                         std=[0.229, 0.224, 0.225])\n",
    "    ])\n",
    "    \n",
    "    image = transform(image).unsqueeze(0)\n",
    "    return image.to(device)"
   ]
  },
  {
   "cell_type": "code",
   "execution_count": 4,
   "id": "f4422f41",
   "metadata": {},
   "outputs": [],
   "source": [
    "content = load_image('./img/input_pic.jpg')\n",
    "style = load_image('./img/style_pic.jpg', shape=content.shape[-2:])"
   ]
  },
  {
   "cell_type": "code",
   "execution_count": 5,
   "id": "fa351ef9",
   "metadata": {},
   "outputs": [],
   "source": [
    "weightsVGG19 = VGG19_Weights.DEFAULT \n",
    "vgg = vgg19(weights=weightsVGG19).features.to(device).eval()\n",
    "for param in vgg.parameters():\n",
    "    param.requires_grad_(False)"
   ]
  },
  {
   "cell_type": "code",
   "execution_count": 6,
   "id": "46d18ea1",
   "metadata": {},
   "outputs": [],
   "source": [
    "content_layers = ['conv4_1']\n",
    "style_layers = ['conv1_1', 'conv2_1', 'conv3_1', 'conv4_1', 'conv5_1'] "
   ]
  },
  {
   "cell_type": "code",
   "execution_count": 23,
   "id": "2475a1bd",
   "metadata": {},
   "outputs": [],
   "source": [
    "def get_features(image, mode, layers):\n",
    "    features = {}\n",
    "    x = image\n",
    "    mapping = {\n",
    "        '0': 'conv1_1',\n",
    "        '5': 'conv2_1',\n",
    "        '10': 'conv3_1',\n",
    "        '19': 'conv4_1',\n",
    "        '21': 'conv4_2',\n",
    "        '28': 'conv5_1'\n",
    "    }\n",
    "    for name, layer in vgg._modules.items():\n",
    "        x = layer(x)\n",
    "        if name in mapping:\n",
    "            layer_name = mapping[name]\n",
    "            if layer_name in layers:\n",
    "                features[layer_name] = x\n",
    "    return features\n",
    "        "
   ]
  },
  {
   "cell_type": "code",
   "execution_count": 26,
   "id": "34ac0dca",
   "metadata": {},
   "outputs": [],
   "source": [
    "def gram_matrix(tensor):\n",
    "    _, c, h, w = tensor.size()\n",
    "    tensor = tensor.view(c, h*w)\n",
    "    gram = torch.mm(tensor, tensor.t())\n",
    "    return gram / (c*h*w)"
   ]
  },
  {
   "cell_type": "code",
   "execution_count": null,
   "id": "27f692a8",
   "metadata": {},
   "outputs": [],
   "source": [
    "target = content.clone().requires_grad(True).to(device)"
   ]
  }
 ],
 "metadata": {
  "kernelspec": {
   "display_name": "ds-env",
   "language": "python",
   "name": "python3"
  },
  "language_info": {
   "codemirror_mode": {
    "name": "ipython",
    "version": 3
   },
   "file_extension": ".py",
   "mimetype": "text/x-python",
   "name": "python",
   "nbconvert_exporter": "python",
   "pygments_lexer": "ipython3",
   "version": "3.11.10"
  }
 },
 "nbformat": 4,
 "nbformat_minor": 5
}

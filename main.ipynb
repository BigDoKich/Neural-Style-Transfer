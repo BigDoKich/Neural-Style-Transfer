{
  "cells": [
    {
      "cell_type": "code",
      "execution_count": 1,
      "id": "1bd9ff68",
      "metadata": {
        "id": "1bd9ff68"
      },
      "outputs": [],
      "source": [
        "import torch\n",
        "import torch.nn as nn\n",
        "import torch.optim as optim\n",
        "from torchvision import transforms\n",
        "from torchvision.models import vgg19, VGG19_Weights\n",
        "from PIL import Image\n",
        "import copy"
      ]
    },
    {
      "cell_type": "code",
      "execution_count": 2,
      "id": "dec639e3",
      "metadata": {
        "colab": {
          "base_uri": "https://localhost:8080/"
        },
        "id": "dec639e3",
        "outputId": "4a9e49c0-5982-4836-b1f3-a2d3056c609d"
      },
      "outputs": [
        {
          "name": "stdout",
          "output_type": "stream",
          "text": [
            "cuda\n"
          ]
        }
      ],
      "source": [
        "device = torch.device('cuda' if torch.cuda.is_available() else 'cpu')\n",
        "print(device)"
      ]
    },
    {
      "cell_type": "code",
      "execution_count": 3,
      "id": "17cfa721",
      "metadata": {
        "id": "17cfa721"
      },
      "outputs": [],
      "source": [
        "def load_image(img_path, max_size=400, shape=None):\n",
        "    image = Image.open(img_path).convert('RGB')\n",
        "\n",
        "    size = max_size if max(image.size) > max_size else max(image.size)\n",
        "    if shape:\n",
        "        size = shape\n",
        "\n",
        "    transform = transforms.Compose([\n",
        "        transforms.Resize(size),\n",
        "        transforms.ToTensor(),\n",
        "        transforms.Normalize(mean=[0.485, 0.456, 0.406],\n",
        "                         std=[0.229, 0.224, 0.225])\n",
        "    ])\n",
        "\n",
        "    image = transform(image).unsqueeze(0)\n",
        "    return image.to(device)"
      ]
    },
    {
      "cell_type": "code",
      "execution_count": 7,
      "id": "2475a1bd",
      "metadata": {
        "id": "2475a1bd"
      },
      "outputs": [],
      "source": [
        "def get_features(image, model, layers):\n",
        "    features = {}\n",
        "    x = image\n",
        "    mapping = {\n",
        "        '0': 'conv1_1',\n",
        "        '5': 'conv2_1',\n",
        "        '10': 'conv3_1',\n",
        "        '19': 'conv4_1',\n",
        "        '21': 'conv4_2',\n",
        "        '28': 'conv5_1'\n",
        "    }\n",
        "    for name, layer in model._modules.items():\n",
        "        x = layer(x)\n",
        "        if name in mapping:\n",
        "            layer_name = mapping[name]\n",
        "            if layer_name in layers:\n",
        "                features[layer_name] = x\n",
        "    return features\n"
      ]
    },
    {
      "cell_type": "code",
      "execution_count": 8,
      "id": "34ac0dca",
      "metadata": {
        "id": "34ac0dca"
      },
      "outputs": [],
      "source": [
        "def gram_matrix(tensor):\n",
        "    _, c, h, w = tensor.size()\n",
        "    tensor = tensor.view(c, h*w)\n",
        "    gram = torch.mm(tensor, tensor.t())\n",
        "    return gram / (c*h*w)"
      ]
    },
    {
      "cell_type": "code",
      "execution_count": 13,
      "id": "9e97d1c1",
      "metadata": {
        "id": "9e97d1c1"
      },
      "outputs": [],
      "source": [
        "def img_convert(tensor):\n",
        "    image = tensor.to('cpu').clone().detach()\n",
        "    image = image.squeeze(0)\n",
        "    image = image * torch.tensor([0.229, 0.224, 0.225]).view(3,1,1)\n",
        "    image = image + torch.tensor([0.485, 0.456, 0.406]).view(3,1,1)\n",
        "    image = image.clamp(0,1)\n",
        "    return transforms.ToPILImage()(image)"
      ]
    },
    {
      "cell_type": "code",
      "execution_count": 31,
      "id": "f4422f41",
      "metadata": {
        "id": "f4422f41"
      },
      "outputs": [],
      "source": [
        "content = load_image('./img/input_pic.jpg', max_size=800) # исходное изображение\n",
        "style = load_image('./img/style_pic.jpg', shape=content.shape[-2:]) # стиль, который хотим взять"
      ]
    },
    {
      "cell_type": "code",
      "execution_count": 5,
      "id": "fa351ef9",
      "metadata": {
        "colab": {
          "base_uri": "https://localhost:8080/"
        },
        "id": "fa351ef9",
        "outputId": "64ea48ea-4368-4af7-cae3-6af5ac396475"
      },
      "outputs": [
        {
          "name": "stdout",
          "output_type": "stream",
          "text": [
            "Downloading: \"https://download.pytorch.org/models/vgg19-dcbb9e9d.pth\" to /root/.cache/torch/hub/checkpoints/vgg19-dcbb9e9d.pth\n"
          ]
        },
        {
          "name": "stderr",
          "output_type": "stream",
          "text": [
            "100%|██████████| 548M/548M [00:05<00:00, 115MB/s]\n"
          ]
        }
      ],
      "source": [
        "weightsVGG19 = VGG19_Weights.DEFAULT\n",
        "vgg = vgg19(weights=weightsVGG19).features.to(device).eval()\n",
        "for param in vgg.parameters():\n",
        "    param.requires_grad_(False)"
      ]
    },
    {
      "cell_type": "code",
      "execution_count": 6,
      "id": "46d18ea1",
      "metadata": {
        "id": "46d18ea1"
      },
      "outputs": [],
      "source": [
        "content_layers = ['conv4_1']\n",
        "style_layers = ['conv1_1', 'conv2_1', 'conv3_1', 'conv4_1', 'conv5_1']"
      ]
    },
    {
      "cell_type": "code",
      "execution_count": 35,
      "id": "27f692a8",
      "metadata": {
        "id": "27f692a8"
      },
      "outputs": [],
      "source": [
        "target = content.clone().requires_grad_(True).to(device) # изображение копия контента, которое оптимизируем"
      ]
    },
    {
      "cell_type": "code",
      "execution_count": 36,
      "id": "c772ba29",
      "metadata": {
        "id": "c772ba29"
      },
      "outputs": [],
      "source": [
        "aplha = 1 # вес исходника\n",
        "beta = 1e6 # вес стиля\n",
        "optimizer = optim.Adam([target], lr=0.003)\n",
        "epochs = 800"
      ]
    },
    {
      "cell_type": "code",
      "execution_count": 37,
      "id": "830e0492",
      "metadata": {
        "id": "830e0492"
      },
      "outputs": [],
      "source": [
        "content_features = get_features(content, vgg, content_layers)\n",
        "style_features = get_features(style, vgg, style_layers)\n",
        "style_grams = {layer: gram_matrix(style_features[layer]) for layer in style_features}"
      ]
    },
    {
      "cell_type": "code",
      "execution_count": 38,
      "id": "5fa46674",
      "metadata": {
        "colab": {
          "base_uri": "https://localhost:8080/"
        },
        "id": "5fa46674",
        "outputId": "4c83aba0-7aca-4a32-bc3e-35574beb531f"
      },
      "outputs": [
        {
          "name": "stdout",
          "output_type": "stream",
          "text": [
            "Epoch 50/800 | Loss: 109.0128\n",
            "Epoch 100/800 | Loss: 63.3153\n",
            "Epoch 150/800 | Loss: 51.3148\n",
            "Epoch 200/800 | Loss: 45.5524\n",
            "Epoch 250/800 | Loss: 41.7797\n",
            "Epoch 300/800 | Loss: 38.8992\n",
            "Epoch 350/800 | Loss: 36.4919\n",
            "Epoch 400/800 | Loss: 34.3602\n",
            "Epoch 450/800 | Loss: 32.3933\n",
            "Epoch 500/800 | Loss: 30.5212\n",
            "Epoch 550/800 | Loss: 28.7081\n",
            "Epoch 600/800 | Loss: 26.9373\n",
            "Epoch 650/800 | Loss: 25.2036\n",
            "Epoch 700/800 | Loss: 23.5117\n",
            "Epoch 750/800 | Loss: 21.8741\n",
            "Epoch 800/800 | Loss: 20.3071\n"
          ]
        }
      ],
      "source": [
        "for epoch in range(1, epochs+1):\n",
        "    target_features = get_features(target, vgg, content_layers+style_layers)\n",
        "\n",
        "    content_loss = 0\n",
        "    for layer in content_layers:\n",
        "        content_loss += torch.mean((target_features[layer] - content_features[layer])**2)\n",
        "\n",
        "    style_loss = 0\n",
        "    for layer in style_layers:\n",
        "        target_gram = gram_matrix(target_features[layer])\n",
        "        style_loss += torch.mean((target_gram - style_grams[layer])**2)\n",
        "\n",
        "    total_loss = aplha * content_loss + beta * style_loss\n",
        "\n",
        "    optimizer.zero_grad()\n",
        "    total_loss.backward()\n",
        "    optimizer.step()\n",
        "\n",
        "    if epoch % 50 == 0:\n",
        "        print(f'Epoch {epoch}/{epochs} | Loss: {total_loss.item():.4f}')\n"
      ]
    },
    {
      "cell_type": "code",
      "execution_count": 39,
      "id": "f567c71c",
      "metadata": {
        "id": "f567c71c"
      },
      "outputs": [],
      "source": [
        "result = img_convert(target)\n",
        "result.save('./img/result.jpg')\n",
        "result.show()"
      ]
    }
  ],
  "metadata": {
    "accelerator": "GPU",
    "colab": {
      "gpuType": "T4",
      "provenance": []
    },
    "kernelspec": {
      "display_name": "ds-env",
      "language": "python",
      "name": "python3"
    },
    "language_info": {
      "codemirror_mode": {
        "name": "ipython",
        "version": 3
      },
      "file_extension": ".py",
      "mimetype": "text/x-python",
      "name": "python",
      "nbconvert_exporter": "python",
      "pygments_lexer": "ipython3",
      "version": "3.11.10"
    }
  },
  "nbformat": 4,
  "nbformat_minor": 5
}
